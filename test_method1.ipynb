{
 "cells": [
  {
   "cell_type": "markdown",
   "id": "0e0dfa53",
   "metadata": {},
   "source": [
    "Test the saved models"
   ]
  },
  {
   "cell_type": "code",
   "execution_count": 8,
   "id": "584cff96",
   "metadata": {},
   "outputs": [],
   "source": [
    "import os\n",
    "import joblib\n",
    "import numpy as np\n",
    "import pandas as pd\n",
    "import json\n",
    "from sklearn.metrics import classification_report\n",
    "from sklearn.model_selection import train_test_split"
   ]
  },
  {
   "cell_type": "code",
   "execution_count": 9,
   "id": "1565bdd0",
   "metadata": {},
   "outputs": [],
   "source": [
    "BEST_FEATURE_SETS = 'results/best_feature_sets.json'\n",
    "MODELS_DIR = 'models'\n",
    "FEATURES_DIR = 'extracted_features'\n",
    "RESULTS_DIR = 'results'"
   ]
  },
  {
   "cell_type": "code",
   "execution_count": 10,
   "id": "a442717c",
   "metadata": {},
   "outputs": [],
   "source": [
    "with open(BEST_FEATURE_SETS, 'r') as f:\n",
    "    models_best_feature_sets = json.load(f)"
   ]
  },
  {
   "cell_type": "code",
   "execution_count": 15,
   "id": "7edb8f7c",
   "metadata": {},
   "outputs": [
    {
     "name": "stdout",
     "output_type": "stream",
     "text": [
      "\n",
      "################################################################################\n",
      "testing started for dataset1\n",
      "################################################################################\n",
      "\n",
      "\n",
      "--------------------------------------------------------------------------------\n",
      "testing SVM on dataset1\n",
      "------------------------------------------------------------\n"
     ]
    },
    {
     "name": "stderr",
     "output_type": "stream",
     "text": [
      "d:\\VSCode Projects\\weather-image-classification\\.venv\\lib\\site-packages\\sklearn\\base.py:380: InconsistentVersionWarning: Trying to unpickle estimator StandardScaler from version 1.7.0 when using version 1.6.1. This might lead to breaking code or invalid results. Use at your own risk. For more info please refer to:\n",
      "https://scikit-learn.org/stable/model_persistence.html#security-maintainability-limitations\n",
      "  warnings.warn(\n",
      "d:\\VSCode Projects\\weather-image-classification\\.venv\\lib\\site-packages\\sklearn\\base.py:380: InconsistentVersionWarning: Trying to unpickle estimator PCA from version 1.7.0 when using version 1.6.1. This might lead to breaking code or invalid results. Use at your own risk. For more info please refer to:\n",
      "https://scikit-learn.org/stable/model_persistence.html#security-maintainability-limitations\n",
      "  warnings.warn(\n",
      "d:\\VSCode Projects\\weather-image-classification\\.venv\\lib\\site-packages\\sklearn\\base.py:380: InconsistentVersionWarning: Trying to unpickle estimator SVC from version 1.7.0 when using version 1.6.1. This might lead to breaking code or invalid results. Use at your own risk. For more info please refer to:\n",
      "https://scikit-learn.org/stable/model_persistence.html#security-maintainability-limitations\n",
      "  warnings.warn(\n",
      "d:\\VSCode Projects\\weather-image-classification\\.venv\\lib\\site-packages\\sklearn\\base.py:380: InconsistentVersionWarning: Trying to unpickle estimator Pipeline from version 1.7.0 when using version 1.6.1. This might lead to breaking code or invalid results. Use at your own risk. For more info please refer to:\n",
      "https://scikit-learn.org/stable/model_persistence.html#security-maintainability-limitations\n",
      "  warnings.warn(\n"
     ]
    },
    {
     "name": "stdout",
     "output_type": "stream",
     "text": [
      "SVM with dataset1_hog16x16_lbp12p2r accuracy: 0.6519\n",
      "\n",
      "\n",
      "--------------------------------------------------------------------------------\n",
      "testing LGBM on dataset1\n",
      "------------------------------------------------------------\n"
     ]
    },
    {
     "name": "stderr",
     "output_type": "stream",
     "text": [
      "d:\\VSCode Projects\\weather-image-classification\\.venv\\lib\\site-packages\\sklearn\\utils\\validation.py:2739: UserWarning: X does not have valid feature names, but LGBMClassifier was fitted with feature names\n",
      "  warnings.warn(\n"
     ]
    },
    {
     "name": "stdout",
     "output_type": "stream",
     "text": [
      "LGBM with dataset1_hog16x16_lbp8p1r accuracy: 0.5659\n",
      "\n",
      "\n",
      "--------------------------------------------------------------------------------\n",
      "testing MLP on dataset1\n",
      "------------------------------------------------------------\n",
      "MLP with dataset1_hog16x16_lbp12p2r accuracy: 0.6045\n",
      "\n",
      "################################################################################\n",
      "testing started for dataset2\n",
      "################################################################################\n",
      "\n",
      "\n",
      "--------------------------------------------------------------------------------\n",
      "testing SVM on dataset2\n",
      "------------------------------------------------------------\n"
     ]
    },
    {
     "name": "stderr",
     "output_type": "stream",
     "text": [
      "d:\\VSCode Projects\\weather-image-classification\\.venv\\lib\\site-packages\\sklearn\\base.py:380: InconsistentVersionWarning: Trying to unpickle estimator StandardScaler from version 1.7.0 when using version 1.6.1. This might lead to breaking code or invalid results. Use at your own risk. For more info please refer to:\n",
      "https://scikit-learn.org/stable/model_persistence.html#security-maintainability-limitations\n",
      "  warnings.warn(\n",
      "d:\\VSCode Projects\\weather-image-classification\\.venv\\lib\\site-packages\\sklearn\\base.py:380: InconsistentVersionWarning: Trying to unpickle estimator PCA from version 1.7.0 when using version 1.6.1. This might lead to breaking code or invalid results. Use at your own risk. For more info please refer to:\n",
      "https://scikit-learn.org/stable/model_persistence.html#security-maintainability-limitations\n",
      "  warnings.warn(\n",
      "d:\\VSCode Projects\\weather-image-classification\\.venv\\lib\\site-packages\\sklearn\\base.py:380: InconsistentVersionWarning: Trying to unpickle estimator SVC from version 1.7.0 when using version 1.6.1. This might lead to breaking code or invalid results. Use at your own risk. For more info please refer to:\n",
      "https://scikit-learn.org/stable/model_persistence.html#security-maintainability-limitations\n",
      "  warnings.warn(\n",
      "d:\\VSCode Projects\\weather-image-classification\\.venv\\lib\\site-packages\\sklearn\\base.py:380: InconsistentVersionWarning: Trying to unpickle estimator Pipeline from version 1.7.0 when using version 1.6.1. This might lead to breaking code or invalid results. Use at your own risk. For more info please refer to:\n",
      "https://scikit-learn.org/stable/model_persistence.html#security-maintainability-limitations\n",
      "  warnings.warn(\n"
     ]
    },
    {
     "name": "stdout",
     "output_type": "stream",
     "text": [
      "SVM with dataset2_hog16x16_lbp12p2r accuracy: 0.7356\n",
      "\n",
      "\n",
      "--------------------------------------------------------------------------------\n",
      "testing LGBM on dataset2\n",
      "------------------------------------------------------------\n"
     ]
    },
    {
     "name": "stderr",
     "output_type": "stream",
     "text": [
      "d:\\VSCode Projects\\weather-image-classification\\.venv\\lib\\site-packages\\sklearn\\utils\\validation.py:2739: UserWarning: X does not have valid feature names, but LGBMClassifier was fitted with feature names\n",
      "  warnings.warn(\n"
     ]
    },
    {
     "name": "stdout",
     "output_type": "stream",
     "text": [
      "LGBM with dataset2_hog16x16_lbp12p2r accuracy: 0.6651\n",
      "\n",
      "\n",
      "--------------------------------------------------------------------------------\n",
      "testing MLP on dataset2\n",
      "------------------------------------------------------------\n",
      "MLP with dataset2_hog16x16_lbp12p2r accuracy: 0.7083\n",
      "\n",
      "\n",
      "################################################################################\n",
      "Comparison table for all combinations\n",
      "################################################################################\n",
      "\n",
      " Dataset Model           Best Feature Set  Accuracy  F1-Score (Macro)  Precision (Macro)  Recall (Macro)\n",
      "dataset1  LGBM  dataset1_hog16x16_lbp8p1r  0.565914          0.539157           0.581773        0.523871\n",
      "dataset1   MLP dataset1_hog16x16_lbp12p2r  0.604516          0.585296           0.598129        0.578713\n",
      "dataset1   SVM dataset1_hog16x16_lbp12p2r  0.651857          0.639400           0.659894        0.629254\n",
      "dataset2  LGBM dataset2_hog16x16_lbp12p2r  0.665064          0.664110           0.665982        0.667474\n",
      "dataset2   MLP dataset2_hog16x16_lbp12p2r  0.708333          0.708385           0.711566        0.709122\n",
      "dataset2   SVM dataset2_hog16x16_lbp12p2r  0.735577          0.735336           0.737008        0.736158\n",
      "\n",
      "comparison for all models saved to results\\full_test_comparison_summary.csv\n"
     ]
    }
   ],
   "source": [
    "models_summary_list = []\n",
    "\n",
    "for dataset_name, models_info in models_best_feature_sets.items():\n",
    "    print('\\n' + '#'*80)\n",
    "    print(f'testing started for {dataset_name}')\n",
    "    print('#'*80)\n",
    "\n",
    "    # test svm, lgbm, mlp for dataset\n",
    "\n",
    "    for model_name, config in models_info.items():\n",
    "        print('\\n\\n' + '-'*80)\n",
    "        print(f'testing {model_name} on {dataset_name}')\n",
    "        print('-'*60)\n",
    "\n",
    "        best_feature_set = config['best_feature_set']\n",
    "        feature_path = os.path.join(FEATURES_DIR, f\"{best_feature_set}.npz\")\n",
    "        with np.load(feature_path, allow_pickle=True) as data:\n",
    "            X, y = data['features'], data['labels']\n",
    "        \n",
    "        model_path = os.path.join(MODELS_DIR, f'{dataset_name}_{model_name}_best_model.pkl')\n",
    "        if not os.path.exists(model_path):\n",
    "            print(f'\\n{model_path} not found. skipping...')\n",
    "            continue\n",
    "        \n",
    "        pipeline = joblib.load(model_path)\n",
    "        \n",
    "        _, X_test, _, y_test = train_test_split(X, y, test_size=0.20, random_state=42, stratify=y)\n",
    "        \n",
    "        y_pred = pipeline.predict(X_test)\n",
    "        report_dict = classification_report(y_test, y_pred, output_dict=True)\n",
    "        accuracy = report_dict['accuracy']\n",
    "        \n",
    "        print(f'{model_name} with {best_feature_set} accuracy: {accuracy:.4f}')\n",
    "        \n",
    "        models_summary_list.append({\n",
    "            'Dataset': dataset_name,\n",
    "            'Model': model_name,\n",
    "            'Best Feature Set': best_feature_set,\n",
    "            'Accuracy': accuracy,\n",
    "            'F1-Score (Macro)': report_dict['macro avg']['f1-score'],\n",
    "            'Precision (Macro)': report_dict['macro avg']['precision'],\n",
    "            'Recall (Macro)': report_dict['macro avg']['recall'],\n",
    "        })\n",
    "\n",
    "\n",
    "# prepare a comparison table\n",
    "\n",
    "print('\\n\\n' + '#'*80)\n",
    "print(\"Comparison table for all combinations\")\n",
    "print('#'*80 + '\\n')\n",
    "\n",
    "df_comparison = pd.DataFrame(models_summary_list)\n",
    "df_comparison = df_comparison.sort_values(by=['Dataset', 'Model', 'Accuracy'], ascending=[True, True, False])\n",
    "    \n",
    "pd.set_option('display.max_rows', 500)\n",
    "pd.set_option('display.max_columns', 500)\n",
    "pd.set_option('display.width', 1200)\n",
    "\n",
    "print(df_comparison.to_string(index=False))\n",
    "    \n",
    "comparison_table_path = os.path.join(RESULTS_DIR, 'full_test_comparison_summary.csv')\n",
    "df_comparison.to_csv(comparison_table_path, index=False)\n",
    "print(f'\\ncomparison for all models saved to {comparison_table_path}')"
   ]
  }
 ],
 "metadata": {
  "kernelspec": {
   "display_name": ".venv",
   "language": "python",
   "name": "python3"
  },
  "language_info": {
   "codemirror_mode": {
    "name": "ipython",
    "version": 3
   },
   "file_extension": ".py",
   "mimetype": "text/x-python",
   "name": "python",
   "nbconvert_exporter": "python",
   "pygments_lexer": "ipython3",
   "version": "3.9.13"
  }
 },
 "nbformat": 4,
 "nbformat_minor": 5
}
