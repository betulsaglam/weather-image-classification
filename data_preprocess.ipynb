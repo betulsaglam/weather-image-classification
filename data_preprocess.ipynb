{
 "cells": [
  {
   "cell_type": "markdown",
   "id": "0a398cfa",
   "metadata": {},
   "source": [
    "Import libraries"
   ]
  },
  {
   "cell_type": "code",
   "execution_count": 1,
   "id": "cccbb73b",
   "metadata": {},
   "outputs": [],
   "source": [
    "import os\n",
    "import cv2\n",
    "import numpy as np\n",
    "import time"
   ]
  },
  {
   "cell_type": "markdown",
   "id": "bc2c51d4",
   "metadata": {},
   "source": [
    "load images from dataset_path, convert to rgb, resize to image_size "
   ]
  },
  {
   "cell_type": "code",
   "execution_count": 2,
   "id": "7cb8caf8",
   "metadata": {},
   "outputs": [],
   "source": [
    "def load_and_preprocess_data(dataset_path, image_size=(128, 128)):\n",
    "    images = []\n",
    "    labels = []\n",
    "    \n",
    "    class_names = sorted([d for d in os.listdir(dataset_path) if os.path.isdir(os.path.join(dataset_path, d))])  \n",
    "    class_map = {name: i for i, name in enumerate(class_names)}\n",
    "    \n",
    "    print(f'loading classes: {class_names}')\n",
    "\n",
    "    for class_name in class_names:\n",
    "        class_path = os.path.join(dataset_path, class_name)\n",
    "        print(f'processing {class_name} folder')\n",
    "        \n",
    "        for image_name in os.listdir(class_path):\n",
    "            image_path = os.path.join(class_path, image_name)\n",
    "            image = cv2.imread(image_path)\n",
    "\n",
    "            if image is None:\n",
    "                print(f'could not load {image_path} !')\n",
    "                continue\n",
    "\n",
    "            image = cv2.cvtColor(image, cv2.COLOR_BGR2RGB)\n",
    "            image = cv2.resize(image, image_size)\n",
    "                \n",
    "            images.append(image)\n",
    "            labels.append(class_map[class_name])\n",
    "\n",
    "    print('finished processing data')\n",
    "    return np.array(images), np.array(labels), class_map"
   ]
  },
  {
   "cell_type": "code",
   "execution_count": 3,
   "id": "df43d6a9",
   "metadata": {},
   "outputs": [],
   "source": [
    "def save_data():\n",
    "    DATASETS = ['dataset1', 'dataset2']\n",
    "    IMAGE_SIZE = (128, 128)\n",
    "\n",
    "    OUTPUT_DIR = 'preprocessed_data'\n",
    "    os.makedirs(OUTPUT_DIR, exist_ok=True)\n",
    "\n",
    "    for path in DATASETS:\n",
    "        OUTPUT_FILE_PATH = f'{OUTPUT_DIR}\\{path}_processed.npz'\n",
    "        print(f'Dataset: {path}')\n",
    "        print(f'Output file: {OUTPUT_FILE_PATH}\\n')\n",
    "\n",
    "        if os.path.exists(OUTPUT_FILE_PATH):\n",
    "            print(f'{OUTPUT_FILE_PATH} already exists.')\n",
    "        else:\n",
    "            start_time = time.time()\n",
    "            \n",
    "            images, labels, class_map = load_and_preprocess_data(f'data\\{path}', image_size=IMAGE_SIZE)\n",
    "            \n",
    "            end_time = time.time()\n",
    "            print(f'\\n{len(images)} images processed')\n",
    "            print(f' in {end_time - start_time:.2f} seconds.')\n",
    "            \n",
    "            print('\\nsaving to a file...')\n",
    "            np.savez_compressed(\n",
    "                OUTPUT_FILE_PATH,\n",
    "                images=images,\n",
    "                labels=labels,\n",
    "                class_map=class_map\n",
    "            )\n",
    "            print('completed')\n"
   ]
  },
  {
   "cell_type": "code",
   "execution_count": 5,
   "id": "92c0cf43",
   "metadata": {},
   "outputs": [
    {
     "name": "stdout",
     "output_type": "stream",
     "text": [
      "Dataset: dataset1\n",
      "Output file: preprocessed_data\\dataset1_processed.npz\n",
      "\n",
      "loading classes: ['dew', 'fogsmog', 'frost', 'glaze', 'hail', 'lightning', 'rain', 'rainbow', 'rime', 'sandstorm', 'snow']\n",
      "processing dew folder\n",
      "processing fogsmog folder\n",
      "processing frost folder\n",
      "processing glaze folder\n",
      "processing hail folder\n",
      "processing lightning folder\n",
      "processing rain folder\n",
      "processing rainbow folder\n",
      "processing rime folder\n",
      "processing sandstorm folder\n",
      "processing snow folder\n",
      "finished processing data\n",
      "\n",
      "6862 images processed\n",
      " in 66.10 seconds.\n",
      "\n",
      "saving to a file...\n",
      "completed\n",
      "Dataset: dataset2\n",
      "Output file: preprocessed_data\\dataset2_processed.npz\n",
      "\n",
      "loading classes: ['cloudy', 'foggy', 'lightning', 'rainbow', 'rainy', 'rime', 'sandstorm', 'sunrise']\n",
      "processing cloudy folder\n",
      "processing foggy folder\n",
      "processing lightning folder\n",
      "processing rainbow folder\n",
      "processing rainy folder\n",
      "processing rime folder\n",
      "processing sandstorm folder\n",
      "processing sunrise folder\n",
      "finished processing data\n",
      "\n",
      "3116 images processed\n",
      " in 35.58 seconds.\n",
      "\n",
      "saving to a file...\n",
      "completed\n"
     ]
    }
   ],
   "source": [
    "save_data()"
   ]
  }
 ],
 "metadata": {
  "kernelspec": {
   "display_name": ".venv",
   "language": "python",
   "name": "python3"
  },
  "language_info": {
   "codemirror_mode": {
    "name": "ipython",
    "version": 3
   },
   "file_extension": ".py",
   "mimetype": "text/x-python",
   "name": "python",
   "nbconvert_exporter": "python",
   "pygments_lexer": "ipython3",
   "version": "3.9.13"
  }
 },
 "nbformat": 4,
 "nbformat_minor": 5
}
